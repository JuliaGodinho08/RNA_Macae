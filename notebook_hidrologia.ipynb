{
  "nbformat": 4,
  "nbformat_minor": 0,
  "metadata": {
    "colab": {
      "name": "notebook_hidrologia.ipynb",
      "provenance": [],
      "collapsed_sections": [
        "USbxNNQWNkEC",
        "k2urexm6MjxP"
      ],
      "toc_visible": true
    },
    "kernelspec": {
      "name": "python3",
      "display_name": "Python 3"
    }
  },
  "cells": [
    {
      "cell_type": "markdown",
      "metadata": {
        "id": "BCUixBXqHtAt"
      },
      "source": [
        "#**Notebook - Hidrologia** \n",
        "\n",
        "Nome: Julia da Silva Godinho (juliagodinho08@gmail.com)\n",
        "\n",
        "---\n",
        "\n",
        "\n",
        "Nesse notebook será criada uma função para o cálculo da evapotranspitação usando o método de PenmanMonteith-FAO, entre outras funções voltadas para conceito hidrológicos que serão usadas no desenvolvimento do trabalho de conclusão de curso. \n",
        "\n",
        "**Referência**: [Roteiro de cálculo da ETo](https://ainfo.cnptia.embrapa.br/digital/bitstream/CNPUV/8815/1/cir065.pdf)\n",
        "[Trabalho de Hidrologia](https://drive.google.com/file/d/1DY97XNRTDGImE8K7iP4qqPtnJE1sNoPZ/view?usp=sharing)\n",
        "\n",
        "**Funções**:\n",
        "- `SaldoRadicao` estimativa do saldo de radiação Rn\n",
        "- `Funcao_Eto` estimativa da Evapotranspiração de Referência ETo\n",
        "- `Eto_plot` faz a plot da evapotranspiração\n",
        "- `pluvio_media` faz a média aritimética das estações pluviométricas\n",
        "- `hidrograma` plota a resposta chuva x vazão do canal"
      ]
    },
    {
      "cell_type": "markdown",
      "metadata": {
        "id": "Bn3kqFZuUH2s"
      },
      "source": [
        "##Importando dados e bibliotecas"
      ]
    },
    {
      "cell_type": "code",
      "metadata": {
        "id": "6eiW6vaqXJyM",
        "colab": {
          "base_uri": "https://localhost:8080/"
        },
        "outputId": "32bd4b02-899d-4c54-abde-886c606789e2"
      },
      "source": [
        "import numpy as np\n",
        "import datetime\n",
        "import pandas as pd\n",
        "import matplotlib.pyplot as plt\n",
        "import seaborn as sns\n",
        "import matplotlib.lines as mlines\n",
        "\n",
        "from google.colab import drive\n",
        "drive.mount('/content/drive')"
      ],
      "execution_count": null,
      "outputs": [
        {
          "output_type": "stream",
          "text": [
            "Mounted at /content/drive\n"
          ],
          "name": "stdout"
        }
      ]
    },
    {
      "cell_type": "markdown",
      "metadata": {
        "id": "wij_kJNJSAmI"
      },
      "source": [
        "Importando o notebook funcoes_preprocessamento\n",
        "\n",
        "[Tutorial 1](https://www.pingshiuanchua.com/blog/post/importing-your-own-python-module-or-python-file-in-colaboratory) - [Tutorial 2](https://stackoverflow.com/questions/20186344/ipynb-import-another-ipynb-file)"
      ]
    },
    {
      "cell_type": "code",
      "metadata": {
        "id": "U5afDCECuX9f",
        "colab": {
          "base_uri": "https://localhost:8080/"
        },
        "outputId": "15e3ee94-814a-442b-d1d7-deab81277421"
      },
      "source": [
        "# # código para importar módulos de outros notebook\n",
        "######### COMENTAR QUANDO NO ESTIVER FAZENDO TESTE\n",
        "# %cd \"/content/drive/MyDrive/Colab Notebooks/Notebooks - TCC \"\n",
        "# !pip install import-ipynb\n",
        "# import import_ipynb\n",
        "# from PreProcessamento import *"
      ],
      "execution_count": null,
      "outputs": [
        {
          "output_type": "stream",
          "text": [
            "/content/drive/MyDrive/Colab Notebooks/Notebooks - TCC \n",
            "Requirement already satisfied: import-ipynb in /usr/local/lib/python3.7/dist-packages (0.1.3)\n"
          ],
          "name": "stdout"
        }
      ]
    },
    {
      "cell_type": "code",
      "metadata": {
        "id": "jnyQmmcXOd70"
      },
      "source": [
        "# Os caminhos de cada arquivo\n",
        "PillerArquivo = '/content/drive/My Drive/IC - Aprendizado de Máquina/Arquivos CSV/chuvas_C_02242003.csv'\n",
        "GaldiArquivo = '/content/drive/My Drive/IC - Aprendizado de Máquina/Arquivos CSV/chuvas_C_02242004.csv'\n",
        "SaoJoaoArquivo = '/content/drive/My Drive/IC - Aprendizado de Máquina/Arquivos CSV/chuvas_C_02242005.csv'\n",
        "OratorioArquivo = '/content/drive/My Drive/IC - Aprendizado de Máquina/Arquivos CSV/Pluvio 2241004 Fazenda Oratorio.csv'\n",
        "PillerFluArquivo = '/content/drive/MyDrive/IC - Aprendizado de Máquina/Arquivos CSV/vazoes_C_59135000.csv'\n",
        "GaldiFluArquivo = '/content/drive/MyDrive/IC - Aprendizado de Máquina/Arquivos CSV/vazoes_C_59125000.csv'"
      ],
      "execution_count": null,
      "outputs": []
    },
    {
      "cell_type": "code",
      "metadata": {
        "id": "eqJeo1GqOjam"
      },
      "source": [
        "# Abrindo os arquivos\n",
        "data_piller = pd.read_csv(PillerArquivo,index_col=False,skiprows=12,encoding='latin-1',sep=';') \n",
        "data_galdi = pd.read_csv(GaldiArquivo,index_col=False,skiprows=12,encoding='latin-1',sep=';') \n",
        "data_saojoao = pd.read_csv(SaoJoaoArquivo,index_col=False,skiprows=12,encoding='latin-1',sep=';') \n",
        "data_orator = pd.read_csv(OratorioArquivo,index_col=False,skiprows=12,encoding='latin-1',sep=';') \n",
        "data_flu_piller = pd.read_csv(PillerFluArquivo,index_col=False,skiprows=12,encoding='latin-1',sep=';')\n",
        "data_flu_galdi = pd.read_csv(GaldiFluArquivo,index_col=False,skiprows=12,encoding='latin-1',sep=';')"
      ],
      "execution_count": null,
      "outputs": []
    },
    {
      "cell_type": "markdown",
      "metadata": {
        "id": "rfrbvgWB9WZR"
      },
      "source": [
        "# **1.Cálculo da Evapotranspiração**"
      ]
    },
    {
      "cell_type": "markdown",
      "metadata": {
        "id": "3PyhdsIbIEE_"
      },
      "source": [
        "**Variáveis necessárias**\n",
        "\n",
        "Para o cálculo da ETo, é necessário que a estação forneça os seguintes dados diários:\n",
        "\n",
        "- `T`  Temperatura do ar (C)\n",
        "- `U2` Velocidade de vento a 2m de altura (m/s)\n",
        "- `UR` Umidade relativa do ar (%) \n",
        "- `Rn ou RL` Saldo de Radiação (MJ/m2dia) **[ESTIMADA]**\n"
      ]
    },
    {
      "cell_type": "markdown",
      "metadata": {
        "id": "USbxNNQWNkEC"
      },
      "source": [
        "## **1.1 Estimatica da Radiação Líquida (Rl)**\n",
        "\n",
        "Função retorna o DataFrame com nova coluna com a estimativa do *Radiação Líquida (Rl)*.\n",
        "\n",
        "**Parâmetros**:\n",
        "- `df` o DataFrame \n",
        "- `Tmax` temp máxima do dia\n",
        "- `Tmin` temp mínima do dia \n",
        "- `z` altitude (m)\n",
        "- `lat` latitude (rad)\n",
        "- `dia` dia em datetime"
      ]
    },
    {
      "cell_type": "code",
      "metadata": {
        "id": "uEqM6n5TNrU1"
      },
      "source": [
        "def radiacao_liquida(df,Column_Tmax,Column_Tmin,z,lat):\n",
        "\n",
        "  '''Função retorna o df com nova coluna a Radiação Líquida (Rl)\n",
        "  e um df com os resultados dos cálculos feitos nessa função. \n",
        "  LEMBRAR: latitude em radianos e dia em datetime\n",
        "  Atualizado'''\n",
        "\n",
        "  # Criando um novo dataframe que terá os resultados nesse procedimento\n",
        "  df_Rn = pd.DataFrame(index=df.index)\n",
        "\n",
        "  # 1 Convertendo a data em dia Juliano \n",
        "  J = df.index.dayofyear\n",
        "  df_Rn['J'] = J\n",
        "\n",
        "  # 2 Radiação líquida (Rl)\n",
        "  \n",
        "  # 2.1 distancia inversa sol-terra\n",
        "  dr = 1 + 0.033 * np.cos(2*np.pi*J/365)\n",
        "  df_Rn['dr'] = dr\n",
        "\n",
        "  # 2.2 declinacao solar\n",
        "  declinacao = 0.409 * np.sin((2*np.pi*J/365) - 1.39)\n",
        "  df_Rn['Declinacao'] = declinacao\n",
        "\n",
        "  # 2.3 Angulo horário ao nascer do Sol \n",
        "  X = 1 - ((np.tan(lat)**2) * (np.tan(declinacao)**2))\n",
        "  angulo = np.pi/2 - np.arctan(-np.tan(lat) * np.tan(declinacao) / (np.sqrt(X)))\n",
        "\n",
        "  df_Rn['angulo_sol'] = angulo\n",
        "    \n",
        "  # 2.4 Radiação solar no topo da atmosfera (Ra ou Stop)\n",
        "  Stop = (118.08/np.pi) * dr * (angulo*np.sin(lat)*np.sin(declinacao) + np.cos(lat)*np.cos(declinacao)*np.sin(angulo))\n",
        "  df_Rn['S_TOP'] = Stop\n",
        "\n",
        "  # 2.5 Radiação no topo da superfície (Ssup)\n",
        "  Ssup = 0.19*Stop*np.sqrt(Column_Tmax-Column_Tmin)\n",
        "  df_Rn['S_SUP'] = Ssup\n",
        "\n",
        "  # 2.6 Radiação solar líquida (Rl)\n",
        "  Rl = Ssup*(1 - 0.23)\n",
        "  df_Rn['RL'] = Rl\n",
        "  \n",
        "  # Armazenando os resultados em uma nova coluna \n",
        "  df['Radiacao liquida'] = Rl\n",
        "\n",
        "  return (df,df_Rn) "
      ],
      "execution_count": null,
      "outputs": []
    },
    {
      "cell_type": "markdown",
      "metadata": {
        "id": "k2urexm6MjxP"
      },
      "source": [
        "## Teste"
      ]
    },
    {
      "cell_type": "code",
      "metadata": {
        "colab": {
          "base_uri": "https://localhost:8080/",
          "height": 324
        },
        "id": "svCXR1zfpG3y",
        "outputId": "ab3e49e0-a4b1-4d6f-9bfc-896cfd0bf537"
      },
      "source": [
        "# # Variáveis para a estimativa da Radiação Líquida\n",
        "# T_max = 'TEMPERATURA MAXIMA, DIARIA (AUT)(Â°C)'\n",
        "# T_min = 'TEMPERATURA MINIMA, DIARIA (AUT)(Â°C)'\n",
        "# z = 28        #altitude\n",
        "# lat = -0.39   #latitude\n",
        "\n",
        "# # A função retorna o df original e um novo com os resultados dos calculos\n",
        "# data_macae, RL_Macae = radiacao_liquida(data_macae,data_macae[T_max],data_macae[T_min],z,lat)\n",
        "\n",
        "# data_macae.head(3)"
      ],
      "execution_count": null,
      "outputs": [
        {
          "output_type": "execute_result",
          "data": {
            "text/html": [
              "<div>\n",
              "<style scoped>\n",
              "    .dataframe tbody tr th:only-of-type {\n",
              "        vertical-align: middle;\n",
              "    }\n",
              "\n",
              "    .dataframe tbody tr th {\n",
              "        vertical-align: top;\n",
              "    }\n",
              "\n",
              "    .dataframe thead th {\n",
              "        text-align: right;\n",
              "    }\n",
              "</style>\n",
              "<table border=\"1\" class=\"dataframe\">\n",
              "  <thead>\n",
              "    <tr style=\"text-align: right;\">\n",
              "      <th></th>\n",
              "      <th>PRECIPITACAO TOTAL, DIARIO (AUT)(mm)</th>\n",
              "      <th>TEMPERATURA MAXIMA, DIARIA (AUT)(Â°C)</th>\n",
              "      <th>TEMPERATURA MEDIA, DIARIA (AUT)(Â°C)</th>\n",
              "      <th>TEMPERATURA MINIMA, DIARIA (AUT)(Â°C)</th>\n",
              "      <th>UMIDADE RELATIVA DO AR, MEDIA DIARIA (AUT)(%)</th>\n",
              "      <th>VENTO, VELOCIDADE MEDIA DIARIA (AUT)(m/s)</th>\n",
              "      <th>Radiacao liquida</th>\n",
              "    </tr>\n",
              "    <tr>\n",
              "      <th>Data Medicao</th>\n",
              "      <th></th>\n",
              "      <th></th>\n",
              "      <th></th>\n",
              "      <th></th>\n",
              "      <th></th>\n",
              "      <th></th>\n",
              "      <th></th>\n",
              "    </tr>\n",
              "  </thead>\n",
              "  <tbody>\n",
              "    <tr>\n",
              "      <th>2006-10-31</th>\n",
              "      <td>77.0</td>\n",
              "      <td>27.680645</td>\n",
              "      <td>22.732930</td>\n",
              "      <td>19.951613</td>\n",
              "      <td>81.366936</td>\n",
              "      <td>3.347715</td>\n",
              "      <td>16.380604</td>\n",
              "    </tr>\n",
              "    <tr>\n",
              "      <th>2006-11-30</th>\n",
              "      <td>170.6</td>\n",
              "      <td>28.003333</td>\n",
              "      <td>23.461359</td>\n",
              "      <td>20.903333</td>\n",
              "      <td>83.870729</td>\n",
              "      <td>3.206580</td>\n",
              "      <td>16.471009</td>\n",
              "    </tr>\n",
              "    <tr>\n",
              "      <th>2006-12-31</th>\n",
              "      <td>130.2</td>\n",
              "      <td>30.306452</td>\n",
              "      <td>25.279779</td>\n",
              "      <td>22.200000</td>\n",
              "      <td>80.461317</td>\n",
              "      <td>3.015600</td>\n",
              "      <td>17.757007</td>\n",
              "    </tr>\n",
              "  </tbody>\n",
              "</table>\n",
              "</div>"
            ],
            "text/plain": [
              "              PRECIPITACAO TOTAL, DIARIO (AUT)(mm)  ...  Radiacao liquida\n",
              "Data Medicao                                        ...                  \n",
              "2006-10-31                                    77.0  ...         16.380604\n",
              "2006-11-30                                   170.6  ...         16.471009\n",
              "2006-12-31                                   130.2  ...         17.757007\n",
              "\n",
              "[3 rows x 7 columns]"
            ]
          },
          "metadata": {
            "tags": []
          },
          "execution_count": 51
        }
      ]
    },
    {
      "cell_type": "code",
      "metadata": {
        "colab": {
          "base_uri": "https://localhost:8080/"
        },
        "id": "jUXPvU1Yn45j",
        "outputId": "7f4a8135-6c6e-4631-9383-eef75cee9fe0"
      },
      "source": [
        "# Macae_Arquivo = '/content/drive/My Drive/IC - Aprendizado de Máquina/Climático/dados_A608_D_2006-09-21_2020-04-01.csv'\n",
        "# df_macae = pd.read_csv(Macae_Arquivo,index_col=False,skiprows=10,encoding='latin-1',sep=';') \n",
        "\n",
        "# # As colunas de interesse \n",
        "# colunas_macae = ['PRECIPITACAO TOTAL, DIARIO (AUT)(mm)','TEMPERATURA MAXIMA, DIARIA (AUT)(Â°C)',\n",
        "#            'TEMPERATURA MEDIA, DIARIA (AUT)(Â°C)','TEMPERATURA MINIMA, DIARIA (AUT)(Â°C)',\n",
        "#            'UMIDADE RELATIVA DO AR, MEDIA DIARIA (AUT)(%)','VENTO, VELOCIDADE MEDIA DIARIA (AUT)(m/s)']\n",
        "\n",
        "# # Mudando o formato da datas de medição\n",
        "# # para ficarem compatíveis com as previstas na função de preprocessamento\n",
        "# df_macae['Data Medicao'] = pd.to_datetime(df_macae['Data Medicao'],format='%Y/%m/%d')\n",
        "\n",
        "# # Fazendo o preprocessamento dos dados\n",
        "# data_macae = preprocessamento(df_macae,colunas_macae,'Data Medicao',\n",
        "#                               'Automática Macae', inicio = '10-2006',\n",
        "#                               fim = '03-2020', eto = True)\n",
        "\n"
      ],
      "execution_count": null,
      "outputs": [
        {
          "output_type": "stream",
          "text": [
            "A estação Automática Macae tem 162 observações com frequencia mensal de 31-10-2006 até 31-03-2020\n"
          ],
          "name": "stdout"
        }
      ]
    },
    {
      "cell_type": "markdown",
      "metadata": {
        "id": "ZzeF1HNpKE70"
      },
      "source": [
        "##**1.2 Cálculo dos coeficientes**\n",
        "\n",
        "Além das variáveis medidas pela estação, precisamos calcular os seguintes coeficientes:\n",
        "\n",
        "- `Delta(T)`\n",
        "- `Gama(Patm,z)` \n",
        "- `es(T)` pressão de saturação de vapor (kPa)\n",
        "- `ea(UR)` pressão atual de vapor (kPa)"
      ]
    },
    {
      "cell_type": "markdown",
      "metadata": {
        "id": "uGsUoJP2I1TL"
      },
      "source": [
        "###**Cálculo do Delta**"
      ]
    },
    {
      "cell_type": "code",
      "metadata": {
        "id": "yTQqlf1pHsMp"
      },
      "source": [
        "def Funcao_Delta(T):\n",
        "  delta_1 = 4098*(0.6108*np.exp((17.27*T)/(T+237.3)))\n",
        "  delta_2 = (T+237.3)**2\n",
        "  \n",
        "  delta = delta_1/delta_2\n",
        "\n",
        "  return delta"
      ],
      "execution_count": null,
      "outputs": []
    },
    {
      "cell_type": "markdown",
      "metadata": {
        "id": "pd54pUZQKcm3"
      },
      "source": [
        "###**Cálculo do gama**"
      ]
    },
    {
      "cell_type": "code",
      "metadata": {
        "id": "jBUG0VhKKcAf"
      },
      "source": [
        "def Funcao_Gama(z):\n",
        "\n",
        "  #Patm - pressão atmosférica local (kPa)\n",
        "  Patm = 101.3*(((293 - 0.0065*z)/293)**5.26)\n",
        "\n",
        "  #gama\n",
        "  gama = 0.665*(10**(-3))*Patm\n",
        "\n",
        "  return gama"
      ],
      "execution_count": null,
      "outputs": []
    },
    {
      "cell_type": "markdown",
      "metadata": {
        "id": "UVHUtovhLpsi"
      },
      "source": [
        "###**Cálculo do déficit de saturação**\n",
        "\n",
        "Dado pela diferença entre *es* a *ea*"
      ]
    },
    {
      "cell_type": "code",
      "metadata": {
        "id": "rOkp9VzILxx9"
      },
      "source": [
        "def Funcao_Deficit(T,UR):\n",
        "\n",
        "  es = 0.6108 * np.exp(17.27*T/(T+237.3))\n",
        "\n",
        "  ea = es*UR/100\n",
        "\n",
        "  deficit = es - ea\n",
        "\n",
        "  return deficit"
      ],
      "execution_count": null,
      "outputs": []
    },
    {
      "cell_type": "markdown",
      "metadata": {
        "id": "38fu7YhMNBhB"
      },
      "source": [
        "##**1.3 Estimativa Evapotranspiração de Referência (Eto)**\n",
        "\n",
        "Caso não tenha o valor de G, considera-lo *zero*."
      ]
    },
    {
      "cell_type": "code",
      "metadata": {
        "id": "2wyE66rvNHAV"
      },
      "source": [
        "def Funcao_Eto (df,T,UR,U2,Rl,z):\n",
        "\n",
        "  '''Função retorna um DataFrame com os resulatdos dos cálculos\n",
        "  da evapotranspiração diária'''\n",
        "\n",
        "  # Criando um novo dataframe\n",
        "  df_Eto = pd.DataFrame(index = df.index)\n",
        "\n",
        "  # Calculo do delta\n",
        "  delta = Funcao_Delta(T) \n",
        "  df_Eto['delta'] = delta\n",
        "\n",
        "  # Calculo do gama\n",
        "  gama = Funcao_Gama(z) \n",
        "  df_Eto['gama'] = gama\n",
        "\n",
        "  # Calculo do deficit de saturação\n",
        "  deficit = Funcao_Deficit(T,UR)\n",
        "  df_Eto['deficit'] = deficit\n",
        "\n",
        "  # Calculo da ETo diario\n",
        "  Eto_1 = 0.408*delta*Rl \n",
        "  Eto_2 = gama*900*U2*deficit/(T+237)\n",
        "  Eto_3 = delta + gama*(1+0.34*U2)\n",
        "\n",
        "  Eto = (Eto_1 + Eto_2)/Eto_3\n",
        "\n",
        "  df_Eto['ETo_diario'] = Eto\n",
        "\n",
        "  # Calculo da ETo mensal \n",
        "  dias_mes = df.index.days_in_month\n",
        "  df_Eto['ETo_mensal'] = Eto*dias_mes\n",
        "\n",
        "  return df_Eto"
      ],
      "execution_count": null,
      "outputs": []
    },
    {
      "cell_type": "markdown",
      "metadata": {
        "id": "zQ3wjOVLw9ox"
      },
      "source": [
        "# **2.Plotagem com a função `Eto_plot`**\n",
        "\n",
        "Parâmetros:\n",
        "- `df` \n",
        "- `coluna` que possui os valores a serem plotados"
      ]
    },
    {
      "cell_type": "code",
      "metadata": {
        "id": "IsMtxLLmxBzt"
      },
      "source": [
        "def Eto_plot(df,coluna):\n",
        "\n",
        "  '''Função faz o plot da ETo, comparando os valores de cada ano'''\n",
        "\n",
        "  # criando uma lista com os anos de observação \n",
        "  anos = list(df.index.year)\n",
        "  anos = set(anos)\n",
        "\n",
        "  # plotando o grafico - cada ano será representado em uma linha \n",
        "  plt.figure(figsize=(9,5))\n",
        "\n",
        "  for ano in anos:\n",
        "    y = df[coluna][str(ano)]\n",
        "    x = y.index.month\n",
        "    plt.plot(x,y,label=ano)\n",
        "    \n",
        "  plt.legend(ncol=2,loc='center right',bbox_to_anchor=(1.4,0.5))\n",
        "  plt.xlabel('Meses')\n",
        "  plt.ylabel('Evapotranspiração mensal (mm/mes)')\n",
        "  plt.title('Evapotranspiração')\n",
        "  plt.show()\n"
      ],
      "execution_count": null,
      "outputs": []
    },
    {
      "cell_type": "markdown",
      "metadata": {
        "id": "0xt-TLhv10W4"
      },
      "source": [
        "##**Teste**"
      ]
    },
    {
      "cell_type": "markdown",
      "metadata": {
        "id": "dQq4sXDYSEZq"
      },
      "source": [
        "Abrindo uma planilha da estação automática Macaé"
      ]
    },
    {
      "cell_type": "code",
      "metadata": {
        "id": "NxMRy0li10A1"
      },
      "source": [
        "# Arquivo = '/content/drive/My Drive/IC - Aprendizado de Máquina/Climático/dados_A608_D_2006-09-21_2020-04-01.csv'\n",
        "# data = pd.read_csv(Arquivo,index_col=False,skiprows=10,encoding='latin-1',sep=';')\n",
        "\n",
        "# #definindo as colunas de interesse\n",
        "# colunas_dados = ['PRECIPITACAO TOTAL, DIARIO (AUT)(mm)',\n",
        "#        'PRESSAO ATMOSFERICA MEDIA DIARIA (AUT)(mB)',\n",
        "#        'TEMPERATURA DO PONTO DE ORVALHO MEDIA DIARIA (AUT)(Â°C)',\n",
        "#        'TEMPERATURA MAXIMA, DIARIA (AUT)(Â°C)',\n",
        "#        'TEMPERATURA MEDIA, DIARIA (AUT)(Â°C)',\n",
        "#        'TEMPERATURA MINIMA, DIARIA (AUT)(Â°C)',\n",
        "#        'UMIDADE RELATIVA DO AR, MEDIA DIARIA (AUT)(%)',\n",
        "#        'VENTO, VELOCIDADE MEDIA DIARIA (AUT)(m/s)']\n",
        "\n",
        "# data['Data Medicao'] = pd.to_datetime(data['Data Medicao'],format='%Y/%m/%d')\n",
        "\n",
        "#data = preprocessamento(data,colunas_dados,'Data Medicao',\"Macae\")\n",
        "#data.head(3)"
      ],
      "execution_count": null,
      "outputs": []
    },
    {
      "cell_type": "markdown",
      "metadata": {
        "id": "xLQj1PgWl6W-"
      },
      "source": [
        "Usando a função de cálculo da Radiação Líquida `RadiacaoLiquida`"
      ]
    },
    {
      "cell_type": "code",
      "metadata": {
        "id": "ZaYAz3yhVEtF"
      },
      "source": [
        "# Tmax = 'TEMPERATURA MAXIMA, DIARIA (AUT)(Â°C)'\n",
        "# Tmin = 'TEMPERATURA MINIMA, DIARIA (AUT)(Â°C)'\n",
        "# z = 30\n",
        "# lat = -0.39\n",
        "# #data_Rn,df_Rn = RadiacaoLiquida(data,data[Tmax],data[Tmin],z,lat)\n",
        "# #df_Rn.head(3)"
      ],
      "execution_count": null,
      "outputs": []
    },
    {
      "cell_type": "markdown",
      "metadata": {
        "id": "PfRH90osmS-q"
      },
      "source": [
        "Fazendo o cálculo da ETo usando `Funcao_ETo`"
      ]
    },
    {
      "cell_type": "code",
      "metadata": {
        "id": "HtYNZ-85mZBC",
        "colab": {
          "base_uri": "https://localhost:8080/",
          "height": 173
        },
        "outputId": "4861af58-4ae8-4d9d-c5aa-dbd26af63136"
      },
      "source": [
        "# T = 'TEMPERATURA MEDIA, DIARIA (AUT)(Â°C)'\n",
        "# UR = 'UMIDADE RELATIVA DO AR, MEDIA DIARIA (AUT)(%)'\n",
        "# U2 = 'VENTO, VELOCIDADE MEDIA DIARIA (AUT)(m/s)'\n",
        "# Rl = 'Radiacao liquida'\n",
        "\n",
        "\n",
        "# #df_eto = Funcao_Eto(data_Rn,data_Rn[T],data_Rn[UR],\n",
        "#                     #data_Rn[U2],data_Rn[Rl],z)\n",
        "# #df_eto.head(3)"
      ],
      "execution_count": null,
      "outputs": [
        {
          "output_type": "execute_result",
          "data": {
            "text/html": [
              "<div>\n",
              "<style scoped>\n",
              "    .dataframe tbody tr th:only-of-type {\n",
              "        vertical-align: middle;\n",
              "    }\n",
              "\n",
              "    .dataframe tbody tr th {\n",
              "        vertical-align: top;\n",
              "    }\n",
              "\n",
              "    .dataframe thead th {\n",
              "        text-align: right;\n",
              "    }\n",
              "</style>\n",
              "<table border=\"1\" class=\"dataframe\">\n",
              "  <thead>\n",
              "    <tr style=\"text-align: right;\">\n",
              "      <th></th>\n",
              "      <th>delta</th>\n",
              "      <th>gama</th>\n",
              "      <th>deficit</th>\n",
              "      <th>ETo_diario</th>\n",
              "      <th>ETo_mensal</th>\n",
              "    </tr>\n",
              "    <tr>\n",
              "      <th>Data Medicao</th>\n",
              "      <th></th>\n",
              "      <th></th>\n",
              "      <th></th>\n",
              "      <th></th>\n",
              "      <th></th>\n",
              "    </tr>\n",
              "  </thead>\n",
              "  <tbody>\n",
              "    <tr>\n",
              "      <th>2006-09-30</th>\n",
              "      <td>0.153402</td>\n",
              "      <td>0.067129</td>\n",
              "      <td>0.476668</td>\n",
              "      <td>4.077791</td>\n",
              "      <td>122.333745</td>\n",
              "    </tr>\n",
              "    <tr>\n",
              "      <th>2006-10-31</th>\n",
              "      <td>0.167538</td>\n",
              "      <td>0.067129</td>\n",
              "      <td>0.515088</td>\n",
              "      <td>4.502434</td>\n",
              "      <td>139.575462</td>\n",
              "    </tr>\n",
              "    <tr>\n",
              "      <th>2006-11-30</th>\n",
              "      <td>0.174101</td>\n",
              "      <td>0.067129</td>\n",
              "      <td>0.465942</td>\n",
              "      <td>4.358875</td>\n",
              "      <td>130.766243</td>\n",
              "    </tr>\n",
              "  </tbody>\n",
              "</table>\n",
              "</div>"
            ],
            "text/plain": [
              "                 delta      gama   deficit  ETo_diario  ETo_mensal\n",
              "Data Medicao                                                      \n",
              "2006-09-30    0.153402  0.067129  0.476668    4.077791  122.333745\n",
              "2006-10-31    0.167538  0.067129  0.515088    4.502434  139.575462\n",
              "2006-11-30    0.174101  0.067129  0.465942    4.358875  130.766243"
            ]
          },
          "metadata": {
            "tags": []
          },
          "execution_count": 30
        }
      ]
    },
    {
      "cell_type": "markdown",
      "metadata": {
        "id": "InfFFjb38rIc"
      },
      "source": [
        "# **3.Precipitação média**\n",
        "\n",
        "[Apostila](http://www.ufrrj.br/institutos/it/deng/leonardo/downloads/APOSTILA/HIDRO-Cap4-PPT.pdf)\n",
        "\n",
        "\n"
      ]
    },
    {
      "cell_type": "markdown",
      "metadata": {
        "id": "ANxRcBk6E8ri"
      },
      "source": [
        "##Método aritimético \n",
        "\n",
        "É o método mais simples e consiste em se determinar a média aritmética entre as quantidades medidas na área. \n",
        "\n",
        "Esse método só apresenta boa\n",
        "estimativa se os aparelhos forem distribuídos uniformemente e a área for plana\n",
        "ou de relevo muito suave. \n",
        "\n",
        "É necessário também que a média efetuada em cada\n",
        "aparelho individualmente varie pouco em relação à média"
      ]
    },
    {
      "cell_type": "code",
      "metadata": {
        "id": "wSCmCF-PFm5z"
      },
      "source": [
        "def pluvio_media (df,colunas):\n",
        "\n",
        "  '''Essa função retorna o df com uma nova coluna com a precipitação média \n",
        "  calculada pelo método aritimético.\n",
        "\n",
        "  É necessário informar o dataframe que reuna todas as estacoes.'''\n",
        "\n",
        "  df['Media'] = df[colunas].mean(axis=1)\n",
        "\n",
        "  return (df)"
      ],
      "execution_count": null,
      "outputs": []
    },
    {
      "cell_type": "code",
      "metadata": {
        "id": "jtHuJiTPGLbd",
        "cellView": "both"
      },
      "source": [
        "# df_teste = pd.DataFrame()\n",
        "# df_teste['Estacao 1']=[1,3,2,5,5,6]\n",
        "# df_teste['Estacao 2']=[4,6,2,3,7,8]\n",
        "# df_teste['Estacao 3']=[4,6,2,6,8,4]\n",
        "# #df_teste\n",
        "\n",
        "# #df2 = media_aritimetica(df_teste,['Estacao 1','Estacao 2','Estacao 3'],)\n",
        "# #df_teste"
      ],
      "execution_count": null,
      "outputs": []
    },
    {
      "cell_type": "markdown",
      "metadata": {
        "id": "4oRvKbfzND4B"
      },
      "source": [
        "#**4.Curva Dupla-Massa**"
      ]
    },
    {
      "cell_type": "code",
      "metadata": {
        "id": "SNIaTHEZNLfJ"
      },
      "source": [
        "def dupla_massa(df,colunas):\n",
        "\n",
        "  '''Essa função retorna um gráfico de dupla-massa. \n",
        "  Onde o eixo X é o total acumulado no posto, e o eixo Y é a média acumulada'''\n",
        "\n",
        "  dupla_m = pd.DataFrame()\n",
        "\n",
        "  for estacao in colunas:\n",
        "\n",
        "    dupla_m[estacao] = df[estacao].cumsum()\n",
        "  \n",
        "  print(dupla_m)\n"
      ],
      "execution_count": null,
      "outputs": []
    },
    {
      "cell_type": "markdown",
      "metadata": {
        "id": "81Z1XWmTEP0Y"
      },
      "source": [
        "# **5.Hidrograma**"
      ]
    },
    {
      "cell_type": "code",
      "metadata": {
        "id": "dv7cn7utEV7i"
      },
      "source": [
        "def hidrograma (df_flu, df_plu, size = (13,4), legend_loc = \"center right\",\n",
        "                flu_ylim = 700, plu_ylim = 150, flu_ylabel = \"COTA (cm)\", width = 10):\n",
        "\n",
        "  '''Essa função recebe dados de vazão e precipitação e retorna o hidrograma.\n",
        "  \n",
        "  - size: valor em tupla. default (13,4)\n",
        "  - location: default \"center right\" '''\n",
        "  \n",
        "  plt.style.use('seaborn-paper')\n",
        "\n",
        "  fig, ax =  plt.subplots(figsize = size)\n",
        "\n",
        "  # VAZAO - COTA    \n",
        "  ax.plot(df_flu, color ='blue', lw = 0.6)\n",
        "  ax.set_ylim(0,flu_ylim)\n",
        "  ax.set_ylabel(flu_ylabel)\n",
        "  ax.set_xlabel(\"DATA\")\n",
        "\n",
        "  # CHUVA \n",
        "  ax_plu = ax.twinx()\n",
        "\n",
        "  ax_plu.bar(df_plu.index, df_plu, color = 'red', width = width)\n",
        "  ax_plu.set_ylim(0,plu_ylim)\n",
        "  ax_plu = plt.gca().invert_yaxis()\n",
        "  plt.ylabel(\"PRECIPITAÇÃO (mm)\")\n",
        "\n",
        "  #LEGENDAS\n",
        "  leg_flu = mlines.Line2D([], [], color='blue', markersize=15, label='Vazão')\n",
        "  leg_plu = mlines.Line2D([], [], color='red', markersize=15, label='Precipitação')\n",
        "  plt.legend(handles=[leg_flu, leg_plu], loc = legend_loc)\n",
        "\n",
        "  plt.title(\"HIDROGRAMA\", pad = 7)\n",
        "  path = '/content/drive/MyDrive/Colab Notebooks/Notebooks - TCC /Resultados/Plots/Hidrograma.jpeg'  \n",
        "  plt.savefig(fname = path, bbox_inches='tight', pad_inches=0.1, dpi = 150)\n",
        "  plt.show()"
      ],
      "execution_count": null,
      "outputs": []
    },
    {
      "cell_type": "markdown",
      "metadata": {
        "id": "EqLHM9mKUPC1"
      },
      "source": [
        "##**Teste**"
      ]
    },
    {
      "cell_type": "code",
      "metadata": {
        "colab": {
          "base_uri": "https://localhost:8080/"
        },
        "id": "bqt-urNtfv2G",
        "outputId": "4fa753f1-aa56-4ad7-952c-571f860bd9b9"
      },
      "source": [
        "# col_mensal = ['Total','NumDiasDeChuva']\n",
        "# col_flu_mensal = ['Maxima','Media']\n",
        "# #col = data_piller.columns[13:44] #para dados diários - CHUVA\n",
        "# #col_flu = data_flu_piller.columns[16:47]\n",
        "\n",
        "# pluvio_diario = preprocessamento(data_galdi, colunas_dados = col_mensal,\n",
        "#                              coluna_index = \"Data\",\n",
        "#                              nome_estacao = \"Galdi\", freq = 'mensal', \n",
        "#                              inicio = '2005', fim = '2011')\n",
        "\n",
        "# fluvio_diario = preprocessamento(data_flu_galdi, colunas_dados = col_flu_mensal,\n",
        "#                              coluna_index = \"Data\",\n",
        "#                              nome_estacao = \"Galdi\", freq = 'mensal', \n",
        "#                              inicio = '2005', fim = '2011')\n",
        "\n",
        "# #pluvio_diario  = KNN(pluvio_diario, col_mensal)\n",
        "# #fluvio_diario = KNN(fluvio_diario, col_flu_mensal)\n",
        "\n",
        "# hidrograma(fluvio_diario[\"Media_KNN\"], pluvio_diario[\"Total_KNN\"], flu_ylim=50, plu_ylim= 800)"
      ],
      "execution_count": null,
      "outputs": [
        {
          "output_type": "stream",
          "text": [
            "A estação Galdi tem 84 observações com frequencia mensal de 31-01-2005 até 31-12-2011\n",
            "A estação Galdi tem 84 observações com frequencia mensal de 31-01-2005 até 31-12-2011\n"
          ],
          "name": "stdout"
        }
      ]
    },
    {
      "cell_type": "code",
      "metadata": {
        "colab": {
          "base_uri": "https://localhost:8080/",
          "height": 266
        },
        "id": "dN5rdr-KiURn",
        "outputId": "8442a215-d60c-4e94-c053-9f14b5bb534c"
      },
      "source": [
        "# fig, ax = plt.subplots(figsize=(10,4))\n",
        "# ax.yaxis.tick_right()\n",
        "# #plt.plot(fluvio_diario,label='Vazão')\n",
        "# plt.bar(x = pluvio_diario.index, height = pluvio_diario['Total_KNN'], \n",
        "#         width=10, label = \"Precipitação\")\n",
        "# plt.legend()\n",
        "# plt.ylabel(\"Precipitação (mm)\")\n",
        "# plt.show()"
      ],
      "execution_count": null,
      "outputs": [
        {
          "output_type": "display_data",
          "data": {
            "image/png": "[encoded data removed]",
            "text/plain": [
              "<Figure size 720x288 with 1 Axes>"
            ]
          },
          "metadata": {
            "tags": [],
            "needs_background": "light"
          }
        }
      ]
    },
    {
      "cell_type": "markdown",
      "metadata": {
        "id": "djD8JPGFSKNa"
      },
      "source": [
        "# **6.Curva de Permanência**"
      ]
    },
    {
      "cell_type": "code",
      "metadata": {
        "id": "U-kS7ksOSlNv"
      },
      "source": [
        "def CurvaPermanencia(df,coluna):\n",
        "\n",
        "  '''Essa função retorna a curva de permanência para a estação e no período informado'''\n",
        "\n",
        "  linhas = df.shape[0]\n",
        "\n",
        "  # 1 - Criando um novo dataframe\n",
        "  curva_permanencia = pd.DataFrame()\n",
        "  curva_permanencia['Vazoes'] = df[coluna].values\n",
        "\n",
        "  # 2 - Calculando a frequencia de ocorrencia de cada vazao\n",
        "  curva_permanencia['Frequencia_1'] = curva_permanencia.index\n",
        "  curva_permanencia['Frequencia'] = curva_permanencia['Frequencia_1'].apply(lambda x : ((x+1)/linhaas)*100)\n",
        "  curva_permanencia.drop(columns=['Frequencia_1'],inplace=True)\n",
        "\n",
        "  # 3 - Plotando a curva de permanência\n",
        "  curva_permanencia.plot(x='Frequencia',y='Vazoes',figsize=(12,4),title='Curva de Permanência')\n",
        "  plt.ylabel('Vazão (m³/s)')\n",
        "  plt.xlabel('Frequência (%)')\n",
        "  plt.show()\n"
      ],
      "execution_count": null,
      "outputs": []
    }
  ]
}